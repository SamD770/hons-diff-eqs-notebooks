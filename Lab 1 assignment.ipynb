{
 "cells": [
  {
   "cell_type": "markdown",
   "metadata": {},
   "source": [
    "# Lab Assignment 1\n",
    "\n"
   ]
  },
  {
   "cell_type": "markdown",
   "metadata": {},
   "source": [
    "### Name Name, s1234567"
   ]
  },
  {
   "cell_type": "markdown",
   "metadata": {},
   "source": [
    "## Task 1\n",
    "\n",
    "Use `SymPy` to solve the differential equation $y' = -y^2\\sin(x)$, with $y(0)=1$, and plot the solution."
   ]
  },
  {
   "cell_type": "code",
   "execution_count": null,
   "metadata": {},
   "outputs": [],
   "source": []
  },
  {
   "cell_type": "markdown",
   "metadata": {},
   "source": [
    "## Task 2\n",
    "\n",
    "Use `SciPy`'s `odeint` function to solve the system of equations\n",
    "\n",
    "$$ \\begin{align*}\\frac{dx}{dt} &= y \\\\ \\frac{dy}{dt}&=x-x^3\\end{align*} $$\n",
    "\n",
    "Produce a plot of the solutions for $0\\leq t\\leq 10$ with initial conditions $x(0)=0$ and $y(0)\\in\\{0, 0.5, 1, \\ldots, 3\\}$.\n",
    "\n",
    "How many curves do you expect to see plotted? How many do you actually see, and why is this?"
   ]
  },
  {
   "cell_type": "code",
   "execution_count": null,
   "metadata": {},
   "outputs": [],
   "source": []
  }
 ],
 "metadata": {
  "kernelspec": {
   "display_name": "Python 3",
   "language": "python",
   "name": "python3"
  },
  "language_info": {
   "codemirror_mode": {
    "name": "ipython",
    "version": 3
   },
   "file_extension": ".py",
   "mimetype": "text/x-python",
   "name": "python",
   "nbconvert_exporter": "python",
   "pygments_lexer": "ipython3",
   "version": "3.7.6"
  }
 },
 "nbformat": 4,
 "nbformat_minor": 2
}
