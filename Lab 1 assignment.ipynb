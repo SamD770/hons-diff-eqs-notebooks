{
 "cells": [
  {
   "cell_type": "markdown",
   "metadata": {},
   "source": [
    "# Lab Assignment 1\n",
    "\n"
   ]
  },
  {
   "cell_type": "markdown",
   "metadata": {},
   "source": [
    "### Sam Dauncey, s2028017"
   ]
  },
  {
   "cell_type": "markdown",
   "metadata": {},
   "source": [
    "## Task 1\n",
    "\n",
    "Use `SymPy` to solve the differential equation $y' = -y^2\\sin(x)$, with $y(0)=1$, and plot the solution."
   ]
  },
  {
   "cell_type": "code",
   "execution_count": 8,
   "metadata": {},
   "outputs": [
    {
     "name": "stdout",
     "output_type": "stream",
     "text": [
      "Equation:\n"
     ]
    },
    {
     "data": {
      "text/latex": [
       "$\\displaystyle \\frac{d}{d x} y{\\left(x \\right)} = - y^{2}{\\left(x \\right)} \\sin{\\left(x \\right)}$"
      ]
     },
     "metadata": {},
     "output_type": "display_data"
    },
    {
     "name": "stdout",
     "output_type": "stream",
     "text": [
      "Has solution (for y(0) = 1):\n"
     ]
    },
    {
     "data": {
      "text/latex": [
       "$\\displaystyle y{\\left(x \\right)} = - \\frac{1}{\\cos{\\left(x \\right)} - 2}$"
      ]
     },
     "metadata": {},
     "output_type": "display_data"
    },
    {
     "data": {
      "image/png": "[encoded data removed]",
      "text/plain": [
       "<Figure size 432x288 with 1 Axes>"
      ]
     },
     "metadata": {
      "needs_background": "light"
     },
     "output_type": "display_data"
    },
    {
     "data": {
      "text/plain": [
       "<sympy.plotting.plot.Plot at 0x2253ed8acd0>"
      ]
     },
     "execution_count": 8,
     "metadata": {},
     "output_type": "execute_result"
    }
   ],
   "source": [
    "from sympy import *\n",
    "init_printing()\n",
    "from IPython.display import display_latex\n",
    "\n",
    "# define our symbols:\n",
    "x = symbols(\"x\")\n",
    "y = Function(\"y\")\n",
    "y_prime = y(x).diff(x)\n",
    "\n",
    "# define the differential equation and print it into the console:\n",
    "diff_eq = Eq(y_prime,\n",
    "             -(y(x)**2)*sin(x))\n",
    "\n",
    "print(\"Equation:\")\n",
    "display_latex(diff_eq)\n",
    "\n",
    "# solve it and print the solution into the console:\n",
    "sol = dsolve(diff_eq, ics={y(0):1})\n",
    "\n",
    "print(\"Has solution (for y(0) = 1):\")\n",
    "display_latex(sol)\n",
    "\n",
    "plotting.plot(sol.rhs, (x,0,2), xlabel = 'x', ylabel = 'y')"
   ]
  },
  {
   "cell_type": "markdown",
   "metadata": {},
   "source": [
    "## Task 2\n",
    "\n",
    "Use `SciPy`'s `odeint` function to solve the system of equations\n",
    "\n",
    "$$ \\begin{align*}\\frac{dx}{dt} &= y \\\\ \\frac{dy}{dt}&=x-x^3\\end{align*} $$\n",
    "\n",
    "Produce a plot of the solutions for $0\\leq t\\leq 10$ with initial conditions $x(0)=0$ and $y(0)\\in\\{0, 0.5, 1, \\ldots, 3\\}$.\n",
    "\n",
    "How many curves do you expect to see plotted? How many do you actually see, and why is this?"
   ]
  },
  {
   "cell_type": "code",
   "execution_count": 12,
   "metadata": {},
   "outputs": [
    {
     "name": "stdout",
     "output_type": "stream",
     "text": [
      "[[0. 0.]\n",
      " [0. 0.]\n",
      " [0. 0.]\n",
      " [0. 0.]\n",
      " [0. 0.]\n",
      " [0. 0.]\n",
      " [0. 0.]\n",
      " [0. 0.]\n",
      " [0. 0.]\n",
      " [0. 0.]\n",
      " [0. 0.]\n",
      " [0. 0.]\n",
      " [0. 0.]\n",
      " [0. 0.]\n",
      " [0. 0.]\n",
      " [0. 0.]\n",
      " [0. 0.]\n",
      " [0. 0.]\n",
      " [0. 0.]\n",
      " [0. 0.]\n",
      " [0. 0.]\n",
      " [0. 0.]\n",
      " [0. 0.]\n",
      " [0. 0.]\n",
      " [0. 0.]\n",
      " [0. 0.]\n",
      " [0. 0.]\n",
      " [0. 0.]\n",
      " [0. 0.]\n",
      " [0. 0.]\n",
      " [0. 0.]\n",
      " [0. 0.]\n",
      " [0. 0.]\n",
      " [0. 0.]\n",
      " [0. 0.]\n",
      " [0. 0.]\n",
      " [0. 0.]\n",
      " [0. 0.]\n",
      " [0. 0.]\n",
      " [0. 0.]\n",
      " [0. 0.]\n",
      " [0. 0.]\n",
      " [0. 0.]\n",
      " [0. 0.]\n",
      " [0. 0.]\n",
      " [0. 0.]\n",
      " [0. 0.]\n",
      " [0. 0.]\n",
      " [0. 0.]\n",
      " [0. 0.]]\n"
     ]
    },
    {
     "data": {
      "text/plain": [
       "[<matplotlib.lines.Line2D at 0x22541a88190>,\n",
       " <matplotlib.lines.Line2D at 0x22541a88250>,\n",
       " <matplotlib.lines.Line2D at 0x22541a88310>,\n",
       " <matplotlib.lines.Line2D at 0x22541a883d0>,\n",
       " <matplotlib.lines.Line2D at 0x22541a88490>,\n",
       " <matplotlib.lines.Line2D at 0x22541a88550>,\n",
       " <matplotlib.lines.Line2D at 0x22541a88610>,\n",
       " <matplotlib.lines.Line2D at 0x22541a886d0>,\n",
       " <matplotlib.lines.Line2D at 0x22541a88790>,\n",
       " <matplotlib.lines.Line2D at 0x22541a88850>,\n",
       " <matplotlib.lines.Line2D at 0x22541a625b0>,\n",
       " <matplotlib.lines.Line2D at 0x22541a889a0>,\n",
       " <matplotlib.lines.Line2D at 0x22541a88a60>,\n",
       " <matplotlib.lines.Line2D at 0x22541a88b20>,\n",
       " <matplotlib.lines.Line2D at 0x22541a88be0>,\n",
       " <matplotlib.lines.Line2D at 0x22541a88ca0>,\n",
       " <matplotlib.lines.Line2D at 0x22541a88d60>,\n",
       " <matplotlib.lines.Line2D at 0x22541a88e20>,\n",
       " <matplotlib.lines.Line2D at 0x22541a88ee0>,\n",
       " <matplotlib.lines.Line2D at 0x22541a88fa0>,\n",
       " <matplotlib.lines.Line2D at 0x22541a8f0a0>,\n",
       " <matplotlib.lines.Line2D at 0x22541a8f190>,\n",
       " <matplotlib.lines.Line2D at 0x22541a8f160>,\n",
       " <matplotlib.lines.Line2D at 0x22541a8f2e0>,\n",
       " <matplotlib.lines.Line2D at 0x22541a8f3a0>]"
      ]
     },
     "execution_count": 12,
     "metadata": {},
     "output_type": "execute_result"
    },
    {
     "data": {
      "image/png": "[encoded data removed]",
      "text/plain": [
       "<Figure size 432x288 with 1 Axes>"
      ]
     },
     "metadata": {
      "needs_background": "light"
     },
     "output_type": "display_data"
    }
   ],
   "source": [
    "from scipy.integrate import odeint\n",
    "import numpy as np\n",
    "import matplotlib.pyplot as plt\n",
    "\n",
    "def dX_dt(X, t):\n",
    "    x, y = X\n",
    "    return (y, x - x**3)\n",
    "\n",
    "t_range = np.linspace(0, 6, 50)\n",
    "\n",
    "X = odeint(dX_dt, (0, 0), t_range)\n",
    "\n",
    "print(X)\n",
    "\n",
    "plt.plot(*X)"
   ]
  },
  {
   "cell_type": "code",
   "execution_count": null,
   "metadata": {},
   "outputs": [],
   "source": []
  }
 ],
 "metadata": {
  "kernelspec": {
   "display_name": "Python 3",
   "language": "python",
   "name": "python3"
  },
  "language_info": {
   "codemirror_mode": {
    "name": "ipython",
    "version": 3
   },
   "file_extension": ".py",
   "mimetype": "text/x-python",
   "name": "python",
   "nbconvert_exporter": "python",
   "pygments_lexer": "ipython3",
   "version": "3.8.5"
  }
 },
 "nbformat": 4,
 "nbformat_minor": 2
}
